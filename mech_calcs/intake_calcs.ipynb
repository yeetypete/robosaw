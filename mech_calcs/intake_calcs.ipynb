{
 "cells": [
  {
   "cell_type": "code",
   "execution_count": 9,
   "metadata": {},
   "outputs": [],
   "source": [
    "import numpy as np\n",
    "import matplotlib.pyplot as plt\n",
    "from IPython.display import display"
   ]
  },
  {
   "cell_type": "code",
   "execution_count": 10,
   "metadata": {},
   "outputs": [],
   "source": [
    "def cart2pol(x, y):\n",
    "    r = np.sqrt(x**2 + y**2)\n",
    "    theta = np.arctan2(y, x)\n",
    "    return np.array([r, theta])\n",
    "\n",
    "def pol2cart(r, theta, offset=0):\n",
    "    x = r * np.cos(theta + offset)\n",
    "    y = r * np.sin(theta + offset)\n",
    "    return np.array([x, y])\n",
    "\n",
    "def spring_force(A, B, mag):\n",
    "    vec = np.subtract(B, A)\n",
    "    return mag * vec / np.linalg.norm(vec) \n"
   ]
  },
  {
   "cell_type": "code",
   "execution_count": 11,
   "metadata": {},
   "outputs": [],
   "source": [
    "intake_pivot_end_pt = np.array([1.25, -3.45]) # in (x, y)\n",
    "roller_diam = 1.2 # in\n",
    "spring_mnt_pt = np.array([4.285, 0.613]) #in (x, y)\n",
    "spring_force_mag_i = 10 # lb\n",
    "spring_force_r = 0.915 # in\n",
    "spring_length_i = 4.55 # in\n",
    "k_factor = 0 # lb / in\n",
    "degree_2x4 = 13.15 # deg\n",
    "degree_4x4 = 53.04 # deg"
   ]
  },
  {
   "cell_type": "code",
   "execution_count": 12,
   "metadata": {},
   "outputs": [],
   "source": [
    "def calc_system_force(intake_angle, force='vertical'):\n",
    "\n",
    "    intake_angle_builtin = np.abs(np.arctan(intake_pivot_end_pt[0]/intake_pivot_end_pt[1]))\n",
    "    intake_pivot_end_mag = np.linalg.norm(intake_pivot_end_pt)\n",
    "\n",
    "    wood_contact_pt = pol2cart(intake_pivot_end_mag, \n",
    "                                intake_angle + intake_angle_builtin, \n",
    "                                offset=np.deg2rad(-90))\n",
    "\n",
    "    if force == 'vertical':\n",
    "        wood_contact_pt = np.add(wood_contact_pt, np.array([0, -roller_diam / 2]))\n",
    "    else:\n",
    "        wood_contact_pt = np.add(wood_contact_pt, np.array([-roller_diam / 2, 0]))\n",
    "\n",
    "    spring_force_pt = np.array(pol2cart(spring_force_r, intake_angle, offset=np.deg2rad(-90)))\n",
    "\n",
    "    spring_length = np.linalg.norm(np.subtract(spring_force_pt, spring_mnt_pt))\n",
    "    spring_compressed_dist = spring_length_i - spring_length\n",
    "\n",
    "    spring_force_mag = spring_compressed_dist * k_factor + spring_force_mag_i\n",
    "\n",
    "    spring_force_vec = spring_force(spring_mnt_pt, spring_force_pt, spring_force_mag)\n",
    "\n",
    "    if force == 'vertical':\n",
    "        wood_normal_moment = np.cross(wood_contact_pt, np.array([0, 1]))\n",
    "    else:\n",
    "        wood_normal_moment = np.cross(wood_contact_pt, np.array([1, 0]))\n",
    "\n",
    "    system_mat_A = np.array([[1, 0, 0],\n",
    "                            [0, 1, 1], \n",
    "                            [0, 0, wood_normal_moment]])\n",
    "\n",
    "    system_mat_B = np.array([[-spring_force_vec[0]],\n",
    "                            [-spring_force_vec[1]],\n",
    "                            [-np.cross(spring_force_pt, spring_force_vec)]])\n",
    "\n",
    "    A_x, A_y, wood_normal_force = np.linalg.solve(system_mat_A, system_mat_B)\n",
    "    return wood_normal_force[0] * 2 # two springs on each intake"
   ]
  },
  {
   "cell_type": "code",
   "execution_count": 13,
   "metadata": {},
   "outputs": [
    {
     "data": {
      "image/png": "[encoded data removed]",
      "text/plain": [
       "<Figure size 432x288 with 1 Axes>"
      ]
     },
     "metadata": {
      "needs_background": "light"
     },
     "output_type": "display_data"
    }
   ],
   "source": [
    "intake_angles = np.linspace(0, 53, 100)\n",
    "normal_forces = []\n",
    "for a in intake_angles:\n",
    "    normal_forces.append(calc_system_force(np.deg2rad(a)))\n",
    "\n",
    "fig_1, ax_1 = plt.subplots(figsize=(6,4))\n",
    "ax_1.plot(intake_angles, normal_forces)\n",
    "ax_1.set_ylabel(r\"Force, $F$ (lb)\")\n",
    "ax_1.set_xlabel(r\"Angle, $\\theta$\")\n",
    "ax_1.set_title(f\"Roller Intake Force vs Angle with {spring_force_mag_i} lb Springs\")\n",
    "fig_1.show()"
   ]
  },
  {
   "cell_type": "code",
   "execution_count": 14,
   "metadata": {},
   "outputs": [
    {
     "name": "stdout",
     "output_type": "stream",
     "text": [
      "clamping force with 2x4 or 2x6 = 9.07031\n",
      "clamping force with 4x4 = 4.27717\n"
     ]
    }
   ],
   "source": [
    "angle_2x4 = np.deg2rad(degree_2x4)\n",
    "angle_4x4 = np.deg2rad(degree_4x4)\n",
    "print(f\"clamping force with 2x4 or 2x6 = {calc_system_force(angle_2x4):g}\")\n",
    "print(f\"clamping force with 4x4 = {calc_system_force(angle_4x4):g}\")"
   ]
  },
  {
   "cell_type": "code",
   "execution_count": 15,
   "metadata": {},
   "outputs": [
    {
     "data": {
      "image/png": "[encoded data removed]",
      "text/plain": [
       "<Figure size 432x288 with 1 Axes>"
      ]
     },
     "metadata": {
      "needs_background": "light"
     },
     "output_type": "display_data"
    }
   ],
   "source": [
    "horizontal_forces = []\n",
    "for a in intake_angles:\n",
    "    horizontal_forces.append(calc_system_force(np.deg2rad(a), force='horizontal'))\n",
    "\n",
    "fig_2, ax_2 = plt.subplots(figsize=(6,4))\n",
    "ax_2.plot(intake_angles, horizontal_forces)\n",
    "ax_2.set_ylabel(r\"Force, $F$ (lb)\")\n",
    "ax_2.set_xlabel(r\"Angle, $\\theta$\")\n",
    "ax_2.set_title(f\"Roller Intake Horizontal Force vs Angle with {spring_force_mag_i} lb Springs\")\n",
    "fig_2.show()"
   ]
  },
  {
   "cell_type": "code",
   "execution_count": 16,
   "metadata": {},
   "outputs": [
    {
     "name": "stdout",
     "output_type": "stream",
     "text": [
      "initial horizontal force = 4.9962\n"
     ]
    }
   ],
   "source": [
    "print(f\"initial horizontal force = {horizontal_forces[0]:g}\")"
   ]
  },
  {
   "cell_type": "code",
   "execution_count": null,
   "metadata": {},
   "outputs": [],
   "source": []
  }
 ],
 "metadata": {
  "interpreter": {
   "hash": "c4a55999d7a795e14098a624da4350443ffa4a69229efdd5ef5c3e6db657c41e"
  },
  "kernelspec": {
   "display_name": "Python 3.8.10 64-bit ('data_sci_env': virtualenv)",
   "language": "python",
   "name": "python3"
  },
  "language_info": {
   "codemirror_mode": {
    "name": "ipython",
    "version": 3
   },
   "file_extension": ".py",
   "mimetype": "text/x-python",
   "name": "python",
   "nbconvert_exporter": "python",
   "pygments_lexer": "ipython3",
   "version": "3.8.10"
  },
  "orig_nbformat": 4
 },
 "nbformat": 4,
 "nbformat_minor": 2
}
