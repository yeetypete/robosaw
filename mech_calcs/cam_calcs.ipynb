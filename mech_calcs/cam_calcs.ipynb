{
 "cells": [
  {
   "cell_type": "code",
   "execution_count": 1,
   "metadata": {},
   "outputs": [],
   "source": [
    "# TODO\n",
    "# 4. Determine what torsion spring to purchase\n",
    "\n",
    "import numpy as np\n",
    "import matplotlib.pyplot as plt\n",
    "from IPython.display import display\n",
    "import sympy as sp\n",
    "import pint\n",
    "\n",
    "ureg = pint.UnitRegistry()\n",
    "plt.rcParams.update({\n",
    "    \"text.usetex\": True,\n",
    "    \"font.family\": \"serif\",\n",
    "})\n",
    "save_path = \"./plots/\""
   ]
  },
  {
   "cell_type": "code",
   "execution_count": 2,
   "metadata": {},
   "outputs": [
    {
     "name": "stdout",
     "output_type": "stream",
     "text": [
      "logarithmic spiral radius = \n"
     ]
    },
    {
     "data": {
      "text/latex": [
       "$\\displaystyle \\alpha e^{\\theta \\tan{\\left(\\beta \\right)}}$"
      ],
      "text/plain": [
       "alpha*exp(theta*tan(beta))"
      ]
     },
     "metadata": {},
     "output_type": "display_data"
    },
    {
     "name": "stdout",
     "output_type": "stream",
     "text": [
      "cam_alpha = \n"
     ]
    },
    {
     "data": {
      "text/latex": [
       "$\\displaystyle - \\frac{L}{e^{\\theta_{1} \\tan{\\left(\\beta \\right)}} - e^{\\theta_{2} \\tan{\\left(\\beta \\right)}}}$"
      ],
      "text/plain": [
       "-L/(exp(theta_1*tan(beta)) - exp(theta_2*tan(beta)))"
      ]
     },
     "metadata": {},
     "output_type": "display_data"
    },
    {
     "name": "stdout",
     "output_type": "stream",
     "text": [
      "cam_alpha = 1.1050735477470954\n",
      "cam_beta = 0.2617993877991494\n",
      "min_coeff_frict = 0.25605276998075555\n"
     ]
    }
   ],
   "source": [
    "x, y, theta, alpha, beta = sp.symbols(\"x y theta alpha beta\")\n",
    "L = sp.Symbol(\"L\")\n",
    "theta_min, theta_max = sp.symbols(\"theta_1, theta_2\")\n",
    "\n",
    "cam_deflection = 3 # in (must be > 2in)\n",
    "cam_beta_coeff = np.deg2rad(15) # \"camming angle\", degrees\n",
    "cam_theta_min = np.deg2rad(210) # must be >= 180 degrees\n",
    "cam_theta_max = np.deg2rad(360)\n",
    "\n",
    "spr_radius = alpha * sp.exp(sp.tan(beta) * theta)\n",
    "\n",
    "print(\"logarithmic spiral radius = \")\n",
    "display(spr_radius)\n",
    "\n",
    "cam_r_min = spr_radius.subs(theta, theta_min)\n",
    "cam_r_max = spr_radius.subs(theta, theta_max)\n",
    "cam_alpha = sp.solve(cam_r_max - cam_r_min - L, alpha)[0]\n",
    "\n",
    "print(\"cam_alpha = \")\n",
    "display(cam_alpha)\n",
    "\n",
    "cam_alpha = sp.lambdify([beta, theta_min, theta_max, L], cam_alpha)\n",
    "cam_alpha_coeff = cam_alpha(cam_beta_coeff, cam_theta_min, cam_theta_max, cam_deflection)\n",
    "min_coeff_frict = np.arctan(cam_beta_coeff)\n",
    "\n",
    "print(f\"cam_alpha = {cam_alpha_coeff}\")\n",
    "print(f\"cam_beta = {cam_beta_coeff}\")\n",
    "print(f\"min_coeff_frict = {min_coeff_frict}\")"
   ]
  },
  {
   "cell_type": "code",
   "execution_count": 3,
   "metadata": {},
   "outputs": [
    {
     "name": "stdout",
     "output_type": "stream",
     "text": [
      "cam_center_dist = 5.95056587903695\n"
     ]
    },
    {
     "data": {
      "image/png": "[encoded data removed]",
      "text/plain": [
       "<Figure size 432x288 with 1 Axes>"
      ]
     },
     "metadata": {
      "needs_background": "light"
     },
     "output_type": "display_data"
    }
   ],
   "source": [
    "cam_radius = sp.lambdify([alpha, beta, theta], spr_radius)\n",
    "thetas = np.linspace(cam_theta_min, cam_theta_max, 100)\n",
    "\n",
    "fig_cam, ax_cam = plt.subplots()\n",
    "x = cam_radius(cam_alpha_coeff, cam_beta_coeff, thetas) * np.cos(thetas)\n",
    "y = cam_radius(cam_alpha_coeff, cam_beta_coeff, thetas) * np.sin(thetas)\n",
    "\n",
    "cam_center_dist = cam_radius(cam_alpha_coeff, cam_beta_coeff, cam_theta_max)\n",
    "print(f\"cam_center_dist = {cam_center_dist}\")\n",
    "ax_cam.set_aspect('equal')\n",
    "ax_cam.set_title(\"Cam Geometry\")\n",
    "ax_cam.plot(x, y)\n",
    "ax_cam.set_xlabel(\"x (in)\")\n",
    "ax_cam.set_ylabel(\"y (in)\")\n",
    "ax_cam.plot(0, 0, marker='o', c='red')\n",
    "plt.show()\n",
    "fig_cam.savefig(save_path + \"cam_geometry.pdf\")"
   ]
  },
  {
   "cell_type": "code",
   "execution_count": 4,
   "metadata": {},
   "outputs": [
    {
     "data": {
      "image/png": "[encoded data removed]",
      "text/plain": [
       "<Figure size 432x288 with 1 Axes>"
      ]
     },
     "metadata": {
      "needs_background": "light"
     },
     "output_type": "display_data"
    },
    {
     "name": "stdout",
     "output_type": "stream",
     "text": [
      "max_spring_torque = 9.240718671791912 lbf*in\n",
      "min_spring_torque = 4.581975859946538 lbf*in\n"
     ]
    }
   ],
   "source": [
    "cam_clamping_force = 6 # lbf\n",
    "\n",
    "def cam_torque(radius, normal_force, beta):\n",
    "    return radius * normal_force * np.sin(beta)\n",
    "\n",
    "spring_torque = cam_torque(cam_radius(cam_alpha_coeff, cam_beta_coeff, thetas), cam_clamping_force, cam_beta_coeff)\n",
    "fig_torque, ax_torque = plt.subplots()\n",
    "ax_torque.plot(thetas, spring_torque)\n",
    "\n",
    "ax_torque.set_xlabel(r\"Cam Angle ($\\theta$)\")\n",
    "ax_torque.set_ylabel(r\"Cam Torque (lbf$\\cdot$in)\")\n",
    "ax_torque.set_title(r\"Cam Spring Torque Requirements\")\n",
    "plt.show()\n",
    "fig_torque.savefig(save_path + \"cam_spring_torque_requirements.pdf\")\n",
    "\n",
    "max_spring_torque = cam_torque(cam_radius(cam_alpha_coeff, cam_beta_coeff, cam_theta_max), cam_clamping_force, cam_beta_coeff)\n",
    "min_spring_torque = cam_torque(cam_radius(cam_alpha_coeff, cam_beta_coeff, cam_theta_min), cam_clamping_force, cam_beta_coeff)\n",
    "print(f'max_spring_torque = {max_spring_torque} lbf*in') # use max torque when choosing spring because smaller wood stock is lighter and needs less clamping force\n",
    "print(f'min_spring_torque = {min_spring_torque} lbf*in')"
   ]
  }
 ],
 "metadata": {
  "interpreter": {
   "hash": "c4a55999d7a795e14098a624da4350443ffa4a69229efdd5ef5c3e6db657c41e"
  },
  "kernelspec": {
   "display_name": "Python 3.8.10 64-bit ('data_sci_env': virtualenv)",
   "language": "python",
   "name": "python3"
  },
  "language_info": {
   "codemirror_mode": {
    "name": "ipython",
    "version": 3
   },
   "file_extension": ".py",
   "mimetype": "text/x-python",
   "name": "python",
   "nbconvert_exporter": "python",
   "pygments_lexer": "ipython3",
   "version": "3.8.10"
  },
  "orig_nbformat": 4
 },
 "nbformat": 4,
 "nbformat_minor": 2
}
