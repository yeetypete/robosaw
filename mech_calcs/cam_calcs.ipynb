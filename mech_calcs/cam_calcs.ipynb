{
 "cells": [
  {
   "cell_type": "code",
   "execution_count": 60,
   "metadata": {},
   "outputs": [],
   "source": [
    "import numpy as np\n",
    "import matplotlib.pyplot as plt\n",
    "from IPython.display import display\n",
    "import sympy as sp"
   ]
  },
  {
   "cell_type": "code",
   "execution_count": 61,
   "metadata": {},
   "outputs": [
    {
     "name": "stdout",
     "output_type": "stream",
     "text": [
      "logarithmic spiral radius = \n"
     ]
    },
    {
     "data": {
      "text/latex": [
       "$\\displaystyle \\alpha e^{\\theta \\tan{\\left(\\beta \\right)}}$"
      ],
      "text/plain": [
       "alpha*exp(theta*tan(beta))"
      ]
     },
     "metadata": {},
     "output_type": "display_data"
    },
    {
     "name": "stdout",
     "output_type": "stream",
     "text": [
      "cam_alpha = \n"
     ]
    },
    {
     "data": {
      "text/latex": [
       "$\\displaystyle - \\frac{L}{e^{\\theta_{1} \\tan{\\left(\\beta \\right)}} - e^{\\theta_{2} \\tan{\\left(\\beta \\right)}}}$"
      ],
      "text/plain": [
       "-L/(exp(theta_1*tan(beta)) - exp(theta_2*tan(beta)))"
      ]
     },
     "metadata": {},
     "output_type": "display_data"
    },
    {
     "name": "stdout",
     "output_type": "stream",
     "text": [
      "cam_alpha = 1.1050735477470954\n",
      "cam_beta = 0.2617993877991494\n",
      "min_coeff_frict = 0.25605276998075555\n"
     ]
    }
   ],
   "source": [
    "x, y, theta, alpha, beta = sp.symbols(\"x y theta alpha beta\")\n",
    "L = sp.Symbol(\"L\")\n",
    "theta_min, theta_max = sp.symbols(\"theta_1, theta_2\")\n",
    "\n",
    "cam_deflection = 3 # in (must be > 2in)\n",
    "cam_beta_coeff = np.deg2rad(15) # \"camming angle\", degrees\n",
    "cam_theta_min = np.deg2rad(210) # must be >= 180 degrees\n",
    "cam_theta_max = np.deg2rad(360)\n",
    "\n",
    "spr_radius = alpha * sp.exp(sp.tan(beta) * theta)\n",
    "\n",
    "print(\"logarithmic spiral radius = \")\n",
    "display(spr_radius)\n",
    "\n",
    "cam_r_min = spr_radius.subs(theta, theta_min)\n",
    "cam_r_max = spr_radius.subs(theta, theta_max)\n",
    "cam_alpha = sp.solve(cam_r_max - cam_r_min - L, alpha)[0]\n",
    "\n",
    "print(\"cam_alpha = \")\n",
    "display(cam_alpha)\n",
    "\n",
    "cam_alpha = sp.lambdify([beta, theta_min, theta_max, L], cam_alpha)\n",
    "cam_alpha_coeff = cam_alpha(cam_beta_coeff, cam_theta_min, cam_theta_max, cam_deflection)\n",
    "min_coeff_frict = np.arctan(cam_beta_coeff)\n",
    "\n",
    "print(f\"cam_alpha = {cam_alpha_coeff}\")\n",
    "print(f\"cam_beta = {cam_beta_coeff}\")\n",
    "print(f\"min_coeff_frict = {min_coeff_frict}\")"
   ]
  },
  {
   "cell_type": "code",
   "execution_count": 63,
   "metadata": {},
   "outputs": [
    {
     "name": "stdout",
     "output_type": "stream",
     "text": [
      "cam_center_dist = 5.95056587903695\n"
     ]
    },
    {
     "data": {
      "image/png": "[encoded data removed]",
      "text/plain": [
       "<Figure size 432x432 with 1 Axes>"
      ]
     },
     "metadata": {
      "needs_background": "light"
     },
     "output_type": "display_data"
    }
   ],
   "source": [
    "cam_radius = sp.lambdify([alpha, beta, theta], spr_radius)\n",
    "thetas = np.linspace(cam_theta_min, cam_theta_max, 100)\n",
    "\n",
    "fig, ax = plt.subplots(figsize=(6,6))\n",
    "x = cam_radius(cam_alpha_coeff, cam_beta_coeff, thetas) * np.cos(thetas)\n",
    "y = cam_radius(cam_alpha_coeff, cam_beta_coeff, thetas) * np.sin(thetas)\n",
    "\n",
    "cam_center_dist = cam_radius(cam_alpha_coeff, cam_beta_coeff, cam_theta_max)\n",
    "print(f\"cam_center_dist = {cam_center_dist}\")\n",
    "ax.set_aspect('equal')\n",
    "ax.plot(x, y)\n",
    "ax.plot(0, 0, marker='o', c='red')\n",
    "plt.show()"
   ]
  },
  {
   "cell_type": "code",
   "execution_count": null,
   "metadata": {},
   "outputs": [],
   "source": []
  }
 ],
 "metadata": {
  "interpreter": {
   "hash": "c4a55999d7a795e14098a624da4350443ffa4a69229efdd5ef5c3e6db657c41e"
  },
  "kernelspec": {
   "display_name": "Python 3.8.10 64-bit ('data_sci_env': virtualenv)",
   "language": "python",
   "name": "python3"
  },
  "language_info": {
   "codemirror_mode": {
    "name": "ipython",
    "version": 3
   },
   "file_extension": ".py",
   "mimetype": "text/x-python",
   "name": "python",
   "nbconvert_exporter": "python",
   "pygments_lexer": "ipython3",
   "version": "3.8.10"
  },
  "orig_nbformat": 4
 },
 "nbformat": 4,
 "nbformat_minor": 2
}
