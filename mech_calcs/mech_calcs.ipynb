{
 "cells": [
  {
   "cell_type": "markdown",
   "metadata": {},
   "source": [
    "# RoboSaw Motor Specification Requirements Calculations"
   ]
  },
  {
   "cell_type": "markdown",
   "metadata": {},
   "source": [
    "## Usage Notes\n",
    "1. If using stepper motor without feedback, real-world torque must not exceed 40% to 50% of maximum pull-out torque ([trinamic](https://www.trinamic.com/technology/motor-control-technology/dcstep/))\n",
    "2. Generally the stepper motor should not exceed 600 rpm if driven without feedback ([omc-stepperonline](https://www.omc-stepperonline.com/support-stepper-motor/what-is-the-maximum-speed-highest-frequency-of-the-motor))"
   ]
  },
  {
   "cell_type": "markdown",
   "metadata": {},
   "source": [
    "## Intake Stepper Motor Requirements"
   ]
  },
  {
   "cell_type": "code",
   "execution_count": 2,
   "metadata": {},
   "outputs": [],
   "source": [
    "import numpy as np\n",
    "import pandas as pd\n",
    "import pint\n",
    "import matplotlib.pyplot as plt\n",
    "from IPython.display import display"
   ]
  },
  {
   "cell_type": "code",
   "execution_count": 3,
   "metadata": {},
   "outputs": [],
   "source": [
    "# initial variables\n",
    "ureg = pint.UnitRegistry()\n",
    "\n",
    "cf_static_wood = 0.6\n",
    "wt_wood = {'2_4': 1.3, '2_6' : 2.0, '4_4' : 4.8} # lb/ft\n",
    "wt_wood = {key: val * ureg.lbf / ureg.ft for (key, val) in wt_wood.items()}\n",
    "intake_wheel_diam = 2.25 * ureg.inch # in\n",
    "max_length = 8 * ureg.ft # ft\n",
    "fos = 1 # factor of safety"
   ]
  },
  {
   "cell_type": "code",
   "execution_count": 4,
   "metadata": {},
   "outputs": [],
   "source": [
    "def force_frict(coef, wt):\n",
    "    return coef * wt\n",
    "\n",
    "def torque_frict(diam, force):\n",
    "    return diam / 2 * force"
   ]
  },
  {
   "cell_type": "code",
   "execution_count": 5,
   "metadata": {},
   "outputs": [
    {
     "name": "stdout",
     "output_type": "stream",
     "text": [
      "The maximum force is 23.0 force_pound\n",
      "The maximum torque with an intake wheel with diameter of 2.25 inch is 25.9 force_pound * inch\n",
      "\n",
      "Look for stepper motor with holding torque of 25.9 force_pound * inch, 414.7 force_ounce * inch\n"
     ]
    }
   ],
   "source": [
    "force_max = force_frict(cf_static_wood, max_length * wt_wood[max(wt_wood, key=wt_wood.get)])\n",
    "torque_max = torque_frict(intake_wheel_diam, force_max)\n",
    "\n",
    "print(f\"The maximum force is {force_max:.1f}\")\n",
    "print(f\"The maximum torque with an intake wheel with diameter of {intake_wheel_diam} is {torque_max:.1f}\\n\")\n",
    "\n",
    "print(f\"Look for stepper motor with holding torque of {torque_max * fos:.1f}, {torque_max.to('ozf*inch') * fos:.1f}\")"
   ]
  },
  {
   "cell_type": "code",
   "execution_count": 6,
   "metadata": {},
   "outputs": [
    {
     "data": {
      "text/html": [
       "<div>\n",
       "<style scoped>\n",
       "    .dataframe tbody tr th:only-of-type {\n",
       "        vertical-align: middle;\n",
       "    }\n",
       "\n",
       "    .dataframe tbody tr th {\n",
       "        vertical-align: top;\n",
       "    }\n",
       "\n",
       "    .dataframe thead th {\n",
       "        text-align: right;\n",
       "    }\n",
       "</style>\n",
       "<table border=\"1\" class=\"dataframe\">\n",
       "  <thead>\n",
       "    <tr style=\"text-align: right;\">\n",
       "      <th></th>\n",
       "      <th>length</th>\n",
       "      <th>force_2_4</th>\n",
       "      <th>torque_2_4</th>\n",
       "      <th>force_2_6</th>\n",
       "      <th>torque_2_6</th>\n",
       "      <th>force_4_4</th>\n",
       "      <th>torque_4_4</th>\n",
       "    </tr>\n",
       "  </thead>\n",
       "  <tbody>\n",
       "    <tr>\n",
       "      <th>0</th>\n",
       "      <td>1</td>\n",
       "      <td>0.78</td>\n",
       "      <td>0.8775</td>\n",
       "      <td>1.2</td>\n",
       "      <td>1.35</td>\n",
       "      <td>2.88</td>\n",
       "      <td>3.24</td>\n",
       "    </tr>\n",
       "    <tr>\n",
       "      <th>1</th>\n",
       "      <td>2</td>\n",
       "      <td>1.56</td>\n",
       "      <td>1.7550</td>\n",
       "      <td>2.4</td>\n",
       "      <td>2.70</td>\n",
       "      <td>5.76</td>\n",
       "      <td>6.48</td>\n",
       "    </tr>\n",
       "    <tr>\n",
       "      <th>2</th>\n",
       "      <td>3</td>\n",
       "      <td>2.34</td>\n",
       "      <td>2.6325</td>\n",
       "      <td>3.6</td>\n",
       "      <td>4.05</td>\n",
       "      <td>8.64</td>\n",
       "      <td>9.72</td>\n",
       "    </tr>\n",
       "    <tr>\n",
       "      <th>3</th>\n",
       "      <td>4</td>\n",
       "      <td>3.12</td>\n",
       "      <td>3.5100</td>\n",
       "      <td>4.8</td>\n",
       "      <td>5.40</td>\n",
       "      <td>11.52</td>\n",
       "      <td>12.96</td>\n",
       "    </tr>\n",
       "    <tr>\n",
       "      <th>4</th>\n",
       "      <td>5</td>\n",
       "      <td>3.90</td>\n",
       "      <td>4.3875</td>\n",
       "      <td>6.0</td>\n",
       "      <td>6.75</td>\n",
       "      <td>14.40</td>\n",
       "      <td>16.20</td>\n",
       "    </tr>\n",
       "    <tr>\n",
       "      <th>5</th>\n",
       "      <td>6</td>\n",
       "      <td>4.68</td>\n",
       "      <td>5.2650</td>\n",
       "      <td>7.2</td>\n",
       "      <td>8.10</td>\n",
       "      <td>17.28</td>\n",
       "      <td>19.44</td>\n",
       "    </tr>\n",
       "    <tr>\n",
       "      <th>6</th>\n",
       "      <td>7</td>\n",
       "      <td>5.46</td>\n",
       "      <td>6.1425</td>\n",
       "      <td>8.4</td>\n",
       "      <td>9.45</td>\n",
       "      <td>20.16</td>\n",
       "      <td>22.68</td>\n",
       "    </tr>\n",
       "  </tbody>\n",
       "</table>\n",
       "</div>"
      ],
      "text/plain": [
       "   length  force_2_4  torque_2_4  force_2_6  torque_2_6  force_4_4  torque_4_4\n",
       "0       1       0.78      0.8775        1.2        1.35       2.88        3.24\n",
       "1       2       1.56      1.7550        2.4        2.70       5.76        6.48\n",
       "2       3       2.34      2.6325        3.6        4.05       8.64        9.72\n",
       "3       4       3.12      3.5100        4.8        5.40      11.52       12.96\n",
       "4       5       3.90      4.3875        6.0        6.75      14.40       16.20\n",
       "5       6       4.68      5.2650        7.2        8.10      17.28       19.44\n",
       "6       7       5.46      6.1425        8.4        9.45      20.16       22.68"
      ]
     },
     "metadata": {},
     "output_type": "display_data"
    }
   ],
   "source": [
    "# must remove units for pandas compatibility\n",
    "\n",
    "length = np.arange(1, max_length.magnitude, 1) * ureg.ft # ft\n",
    "\n",
    "intake_recs = pd.DataFrame({'length' : length.magnitude})\n",
    "for key, val in wt_wood.items():\n",
    "    intake_recs[\"force_\" + key] = force_frict(cf_static_wood, val.magnitude * intake_recs.length)\n",
    "    intake_recs[\"torque_\" + key] = torque_frict(intake_wheel_diam.magnitude, intake_recs[\"force_\" + key])\n",
    "display(intake_recs)"
   ]
  },
  {
   "cell_type": "code",
   "execution_count": null,
   "metadata": {},
   "outputs": [],
   "source": []
  },
  {
   "cell_type": "markdown",
   "metadata": {},
   "source": [
    "## Turn Table Stepper Motor Requirements"
   ]
  },
  {
   "cell_type": "code",
   "execution_count": 7,
   "metadata": {},
   "outputs": [],
   "source": [
    "def torque_pinion(force, pd_pinion):\n",
    "    return force * pd_pinion / 2\n",
    "\n",
    "def speed_table(vel_motor, gear_ratio, pd_pinion, diam_table):\n",
    "    return (vel_motor / gear_ratio * pd_pinion / 2) / diam_table"
   ]
  },
  {
   "cell_type": "code",
   "execution_count": 8,
   "metadata": {},
   "outputs": [
    {
     "name": "stdout",
     "output_type": "stream",
     "text": [
      "The maximum torque required to move the rotary table is 6.0 force_pound * inch, 96.0 force_ounce * inch\n",
      "The maximum speed of the turn_table is 51.8 degree / second\n"
     ]
    }
   ],
   "source": [
    "pd_pinion = 1.5 * ureg.inch # in\n",
    "force_rack = 8 * ureg.lbf # lbf\n",
    "vel_motor = 600 * ureg.rpm # rpm\n",
    "gear_ratio_stepper = 5\n",
    "diam_table = 265 * ureg.millimeter # mm\n",
    "\n",
    "torque_pinion_motor = torque_pinion(force_rack, pd_pinion)\n",
    "print(f\"The maximum torque required to move the rotary table is {torque_pinion_motor.to('lbf * in') * fos:.1f}, {torque_pinion_motor.to('ozf * in') * fos:.1f}\")\n",
    "max_speed_table = speed_table(vel_motor, gear_ratio_stepper, pd_pinion, diam_table)\n",
    "print(f\"The maximum speed of the turn_table is {max_speed_table.to('deg/s'):.1f}\")"
   ]
  },
  {
   "cell_type": "markdown",
   "metadata": {},
   "source": [
    "## Saw Blade Linear Actuator Motor Requirements"
   ]
  },
  {
   "cell_type": "code",
   "execution_count": null,
   "metadata": {},
   "outputs": [],
   "source": []
  }
 ],
 "metadata": {
  "interpreter": {
   "hash": "4dc43ed801569753a0583a77942b479e6a40f2893d48332944a8cdba9d9c260d"
  },
  "kernelspec": {
   "display_name": "Python 3.9.7 64-bit ('.venv': venv)",
   "name": "python3"
  },
  "language_info": {
   "codemirror_mode": {
    "name": "ipython",
    "version": 3
   },
   "file_extension": ".py",
   "mimetype": "text/x-python",
   "name": "python",
   "nbconvert_exporter": "python",
   "pygments_lexer": "ipython3",
   "version": "3.9.7"
  },
  "orig_nbformat": 4
 },
 "nbformat": 4,
 "nbformat_minor": 2
}
